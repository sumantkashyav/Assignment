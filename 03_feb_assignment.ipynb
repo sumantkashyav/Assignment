{
 "cells": [
  {
   "attachments": {},
   "cell_type": "markdown",
   "metadata": {},
   "source": [
    "Q1. Which keyword is used to create a function? Create a function to return a list of odd numbers in the\n",
    "range of 1 to 25."
   ]
  },
  {
   "attachments": {},
   "cell_type": "markdown",
   "metadata": {},
   "source": [
    "Answer - def keyword is used to create a function"
   ]
  },
  {
   "cell_type": "code",
   "execution_count": 11,
   "metadata": {},
   "outputs": [],
   "source": [
    "def odd_fun():\n",
    "    l1=[]\n",
    "    for i in list(range(1,26)):\n",
    "        if i%2!=0:\n",
    "            l1.append(i)\n",
    "    return l1"
   ]
  },
  {
   "cell_type": "code",
   "execution_count": 13,
   "metadata": {},
   "outputs": [
    {
     "data": {
      "text/plain": [
       "[1, 3, 5, 7, 9, 11, 13, 15, 17, 19, 21, 23, 25]"
      ]
     },
     "execution_count": 13,
     "metadata": {},
     "output_type": "execute_result"
    }
   ],
   "source": [
    "odd_fun()"
   ]
  },
  {
   "attachments": {},
   "cell_type": "markdown",
   "metadata": {},
   "source": [
    "Q2. Why *args and **kwargs is used in some functions? Create a function each for *args and **kwargs\n",
    "to demonstrate their use."
   ]
  },
  {
   "attachments": {},
   "cell_type": "markdown",
   "metadata": {},
   "source": [
    "Answer - We use *args and **kwargs as an argument when we are unsure about the number of arguments to pass in the functions.\n",
    "\n",
    "Special Symbols Used for passing arguments in Python:\n",
    "*args (Non-Keyword Arguments)\n",
    "**kwargs (Keyword Arguments)\n",
    "\n",
    "The special syntax *args in function definitions in Python is used to pass a variable number of arguments to a function. It is used to pass a non-keyworded, variable-length argument list. \n",
    "\n",
    "The special syntax **kwargs in function definitions in Python is used to pass a keyworded, variable-length argument list. "
   ]
  },
  {
   "cell_type": "code",
   "execution_count": 23,
   "metadata": {},
   "outputs": [
    {
     "name": "stdout",
     "output_type": "stream",
     "text": [
      "Sum =  9\n",
      "Sum =  31\n",
      "Sum =  25\n"
     ]
    }
   ],
   "source": [
    "def adder(*args):\n",
    "    sum = 0\n",
    "    for i in args:\n",
    "        sum += i\n",
    "    print(\"Sum = \",sum)\n",
    "\n",
    "adder(1,3,5)\n",
    "adder(4,5,6,7,9)\n",
    "adder(1,2,3,5,6,8)"
   ]
  },
  {
   "cell_type": "code",
   "execution_count": 36,
   "metadata": {},
   "outputs": [
    {
     "name": "stdout",
     "output_type": "stream",
     "text": [
      "name : abhijeet\n",
      "standard : 10th\n",
      "roll : 11\n",
      "marks : 90%\n"
     ]
    }
   ],
   "source": [
    "def student(**kwargs):\n",
    "    for key,value in kwargs.items():\n",
    "        print(\"%s : %s\" % (key, value))\n",
    "\n",
    "student(name='abhijeet',standard='10th',roll='11',marks='90%')"
   ]
  },
  {
   "attachments": {},
   "cell_type": "markdown",
   "metadata": {},
   "source": [
    "Q3. What is an iterator in python? Name the method used to initialise the iterator object and the method\n",
    "used for iteration. Use these methods to print the first five elements of the given list [2, 4, 6, 8, 10, 12, 14, 16, 18, 20]."
   ]
  },
  {
   "attachments": {},
   "cell_type": "markdown",
   "metadata": {},
   "source": [
    "Answer - An iterator in Python is an object that implements the iterator protocol, which consists of the __iter__ method and the __next__ method.\n",
    "\n",
    "The __iter__ method initializes the iterator object and returns the iterator object itself.\n",
    "The __next__ method returns the next item from the iterator. If there are no more items to return, it raises the StopIteration exception."
   ]
  },
  {
   "cell_type": "code",
   "execution_count": 37,
   "metadata": {},
   "outputs": [
    {
     "name": "stdout",
     "output_type": "stream",
     "text": [
      "2\n",
      "4\n",
      "6\n",
      "8\n",
      "10\n"
     ]
    }
   ],
   "source": [
    "list1 = [2, 4, 6, 8, 10, 12, 14, 16, 18, 20]\n",
    "my_iterator = iter(list1)\n",
    "for i in range(5):\n",
    "    print(next(my_iterator))"
   ]
  },
  {
   "attachments": {},
   "cell_type": "markdown",
   "metadata": {},
   "source": [
    "Q4. What is a generator function in python? Why yield keyword is used? Give an example of a generator\n",
    "function."
   ]
  },
  {
   "attachments": {},
   "cell_type": "markdown",
   "metadata": {},
   "source": [
    "Answer - A generator function in Python is a special type of function that returns an iterator, which can be used to iterate over a sequence of values.\n",
    "The \"yield\" keyword is used in a generator function to return a value and temporarily suspend the execution state of the function. When the next value is requested, the function resumes execution from where it left off and continues generating values.\n",
    "When the generator function is called, it does not execute the function body immediately. Instead, it returns a generator object that can be iterated over to produce the values."
   ]
  },
  {
   "cell_type": "code",
   "execution_count": 38,
   "metadata": {},
   "outputs": [
    {
     "name": "stdout",
     "output_type": "stream",
     "text": [
      "0\n",
      "1\n",
      "2\n",
      "3\n",
      "4\n"
     ]
    }
   ],
   "source": [
    "def generator_fun(n):\n",
    "    count=0\n",
    "    while count<n:\n",
    "        yield count\n",
    "        count+=1\n",
    "for i in generator_fun(5):\n",
    "    print(i)"
   ]
  },
  {
   "attachments": {},
   "cell_type": "markdown",
   "metadata": {},
   "source": [
    "Q5. Create a generator function for prime numbers less than 1000. Use the next() method to print the \n",
    "first 20 prime numbers."
   ]
  },
  {
   "cell_type": "code",
   "execution_count": 1,
   "metadata": {},
   "outputs": [],
   "source": [
    "def check_prime():\n",
    "    yield 2\n",
    "    num = 3\n",
    "    while num < 1000:\n",
    "        is_prime = True\n",
    "        for i in range(2,num//2+1):\n",
    "            if num % i == 0:\n",
    "                is_prime = False\n",
    "                break\n",
    "        if is_prime:\n",
    "            yield num\n",
    "        num += 2"
   ]
  },
  {
   "cell_type": "code",
   "execution_count": 2,
   "metadata": {},
   "outputs": [
    {
     "name": "stdout",
     "output_type": "stream",
     "text": [
      "2\n",
      "3\n",
      "5\n",
      "7\n",
      "11\n",
      "13\n",
      "17\n",
      "19\n",
      "23\n",
      "29\n",
      "31\n",
      "37\n",
      "41\n",
      "43\n",
      "47\n",
      "53\n",
      "59\n",
      "61\n",
      "67\n",
      "71\n"
     ]
    }
   ],
   "source": [
    "gen = check_prime()\n",
    "for i in range(20):\n",
    "    print(next(gen))"
   ]
  },
  {
   "attachments": {},
   "cell_type": "markdown",
   "metadata": {},
   "source": [
    "Q6. Write a python program to print the first 10 Fibonacci numbers using a while loop."
   ]
  },
  {
   "cell_type": "code",
   "execution_count": 5,
   "metadata": {},
   "outputs": [],
   "source": [
    "def print_fibonacci():\n",
    "    count=0\n",
    "    fib1=0\n",
    "    fib2=1\n",
    "    while count<10:\n",
    "        print(fib1)\n",
    "        fib=fib1+fib2\n",
    "        fib1=fib2\n",
    "        fib2=fib\n",
    "        count=count+1"
   ]
  },
  {
   "cell_type": "code",
   "execution_count": 6,
   "metadata": {},
   "outputs": [
    {
     "name": "stdout",
     "output_type": "stream",
     "text": [
      "0\n",
      "1\n",
      "1\n",
      "2\n",
      "3\n",
      "5\n",
      "8\n",
      "13\n",
      "21\n",
      "34\n"
     ]
    }
   ],
   "source": [
    "print_fibonacci()"
   ]
  },
  {
   "attachments": {},
   "cell_type": "markdown",
   "metadata": {},
   "source": [
    "Q7. Write a List Comprehension to iterate through the given string: ‘pwskills’.\n",
    "\n",
    "Expected output: ['p', 'w', 's', 'k', 'i', 'l', 'l', 's']"
   ]
  },
  {
   "cell_type": "code",
   "execution_count": 7,
   "metadata": {},
   "outputs": [],
   "source": [
    "l1 = [chr for chr in 'pwskills']"
   ]
  },
  {
   "cell_type": "code",
   "execution_count": 8,
   "metadata": {},
   "outputs": [
    {
     "name": "stdout",
     "output_type": "stream",
     "text": [
      "['p', 'w', 's', 'k', 'i', 'l', 'l', 's']\n"
     ]
    }
   ],
   "source": [
    "print(l1)"
   ]
  },
  {
   "attachments": {},
   "cell_type": "markdown",
   "metadata": {},
   "source": [
    "Q8. Write a python program to check whether a given number is Palindrome or not using a while loop."
   ]
  },
  {
   "cell_type": "code",
   "execution_count": 24,
   "metadata": {},
   "outputs": [],
   "source": [
    "def check_palindrome(num):\n",
    "    num = str(num)\n",
    "    num1 = num[-1::-1]\n",
    "    length = len(num)\n",
    "    i = 0\n",
    "    is_palindrome = True\n",
    "    while i<length:\n",
    "        if num[i] != num1[i]:\n",
    "            is_palindrome = False\n",
    "        i = i+1\n",
    "    if is_palindrome:\n",
    "        print('Given number is a palindrome number!')\n",
    "    else:\n",
    "        print('Given number is not a palindrome number!')"
   ]
  },
  {
   "cell_type": "code",
   "execution_count": 25,
   "metadata": {},
   "outputs": [
    {
     "name": "stdout",
     "output_type": "stream",
     "text": [
      "Given number is not a palindrome number!\n"
     ]
    }
   ],
   "source": [
    "check_palindrome(1212)"
   ]
  },
  {
   "cell_type": "code",
   "execution_count": 26,
   "metadata": {},
   "outputs": [
    {
     "name": "stdout",
     "output_type": "stream",
     "text": [
      "Given number is a palindrome number!\n"
     ]
    }
   ],
   "source": [
    "check_palindrome(12121)"
   ]
  },
  {
   "attachments": {},
   "cell_type": "markdown",
   "metadata": {},
   "source": [
    "Q9. Write a code to print odd numbers from 1 to 100 using list comprehension.\n",
    "\n",
    "Note: Use a list comprehension to create a list from 1 to 100 and use another List comprehension to filter out odd numbers"
   ]
  },
  {
   "cell_type": "code",
   "execution_count": 27,
   "metadata": {},
   "outputs": [],
   "source": [
    "l1 = [i for i in range(1,101)]"
   ]
  },
  {
   "cell_type": "code",
   "execution_count": 31,
   "metadata": {},
   "outputs": [],
   "source": [
    "odd_list = [i for i in l1 if i%2!=0]"
   ]
  },
  {
   "cell_type": "code",
   "execution_count": 32,
   "metadata": {},
   "outputs": [
    {
     "name": "stdout",
     "output_type": "stream",
     "text": [
      "[1, 3, 5, 7, 9, 11, 13, 15, 17, 19, 21, 23, 25, 27, 29, 31, 33, 35, 37, 39, 41, 43, 45, 47, 49, 51, 53, 55, 57, 59, 61, 63, 65, 67, 69, 71, 73, 75, 77, 79, 81, 83, 85, 87, 89, 91, 93, 95, 97, 99]\n"
     ]
    }
   ],
   "source": [
    "print(odd_list)"
   ]
  }
 ],
 "metadata": {
  "kernelspec": {
   "display_name": "Python 3",
   "language": "python",
   "name": "python3"
  },
  "language_info": {
   "codemirror_mode": {
    "name": "ipython",
    "version": 3
   },
   "file_extension": ".py",
   "mimetype": "text/x-python",
   "name": "python",
   "nbconvert_exporter": "python",
   "pygments_lexer": "ipython3",
   "version": "3.11.2"
  },
  "orig_nbformat": 4,
  "vscode": {
   "interpreter": {
    "hash": "4dfee6d697dab319f6f6e8f7d5e7e17e25a73fbb461443a65d95fe6517237ab6"
   }
  }
 },
 "nbformat": 4,
 "nbformat_minor": 2
}
